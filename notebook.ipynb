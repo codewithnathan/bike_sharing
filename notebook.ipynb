{
 "cells": [
  {
   "cell_type": "markdown",
   "metadata": {},
   "source": [
    "# Proyek Analisis Data: Bike Sharing Dataset\n",
    "- **Nama:** Matthew Nathan Limahardja\n",
    "- **Email:** nathanlimahardja@gmail.com\n",
    "- **ID Dicoding:** nathan_limahardja"
   ]
  },
  {
   "cell_type": "markdown",
   "metadata": {},
   "source": [
    "## Menentukan Pertanyaan Bisnis\n",
    "- Bagaimana keadaan lingkungan terhadap situasi weather?\n",
    "- Bagaimana performa user setiap tahunnya?"
   ]
  },
  {
   "cell_type": "markdown",
   "metadata": {},
   "source": [
    "## Import Semua Packages/Library yang Digunakan"
   ]
  },
  {
   "cell_type": "code",
   "execution_count": 73,
   "metadata": {},
   "outputs": [],
   "source": [
    "import pandas as pd"
   ]
  },
  {
   "cell_type": "markdown",
   "metadata": {},
   "source": [
    "## Data Wrangling\n",
    "### Gathering Data"
   ]
  },
  {
   "cell_type": "code",
   "execution_count": 74,
   "metadata": {},
   "outputs": [
    {
     "data": {
      "text/html": [
       "<div>\n",
       "<style scoped>\n",
       "    .dataframe tbody tr th:only-of-type {\n",
       "        vertical-align: middle;\n",
       "    }\n",
       "\n",
       "    .dataframe tbody tr th {\n",
       "        vertical-align: top;\n",
       "    }\n",
       "\n",
       "    .dataframe thead th {\n",
       "        text-align: right;\n",
       "    }\n",
       "</style>\n",
       "<table border=\"1\" class=\"dataframe\">\n",
       "  <thead>\n",
       "    <tr style=\"text-align: right;\">\n",
       "      <th></th>\n",
       "      <th>instant</th>\n",
       "      <th>dteday</th>\n",
       "      <th>season</th>\n",
       "      <th>yr</th>\n",
       "      <th>mnth</th>\n",
       "      <th>holiday</th>\n",
       "      <th>weekday</th>\n",
       "      <th>workingday</th>\n",
       "      <th>weathersit</th>\n",
       "      <th>temp</th>\n",
       "      <th>atemp</th>\n",
       "      <th>hum</th>\n",
       "      <th>windspeed</th>\n",
       "      <th>casual</th>\n",
       "      <th>registered</th>\n",
       "      <th>cnt</th>\n",
       "    </tr>\n",
       "  </thead>\n",
       "  <tbody>\n",
       "    <tr>\n",
       "      <th>290</th>\n",
       "      <td>291</td>\n",
       "      <td>2011-10-18</td>\n",
       "      <td>4</td>\n",
       "      <td>0</td>\n",
       "      <td>10</td>\n",
       "      <td>0</td>\n",
       "      <td>2</td>\n",
       "      <td>1</td>\n",
       "      <td>2</td>\n",
       "      <td>0.532500</td>\n",
       "      <td>0.522721</td>\n",
       "      <td>0.701667</td>\n",
       "      <td>0.110087</td>\n",
       "      <td>637</td>\n",
       "      <td>4111</td>\n",
       "      <td>4748</td>\n",
       "    </tr>\n",
       "    <tr>\n",
       "      <th>24</th>\n",
       "      <td>25</td>\n",
       "      <td>2011-01-25</td>\n",
       "      <td>1</td>\n",
       "      <td>0</td>\n",
       "      <td>1</td>\n",
       "      <td>0</td>\n",
       "      <td>2</td>\n",
       "      <td>1</td>\n",
       "      <td>2</td>\n",
       "      <td>0.223478</td>\n",
       "      <td>0.234526</td>\n",
       "      <td>0.616957</td>\n",
       "      <td>0.129796</td>\n",
       "      <td>186</td>\n",
       "      <td>1799</td>\n",
       "      <td>1985</td>\n",
       "    </tr>\n",
       "    <tr>\n",
       "      <th>224</th>\n",
       "      <td>225</td>\n",
       "      <td>2011-08-13</td>\n",
       "      <td>3</td>\n",
       "      <td>0</td>\n",
       "      <td>8</td>\n",
       "      <td>0</td>\n",
       "      <td>6</td>\n",
       "      <td>0</td>\n",
       "      <td>2</td>\n",
       "      <td>0.685833</td>\n",
       "      <td>0.645858</td>\n",
       "      <td>0.729583</td>\n",
       "      <td>0.211454</td>\n",
       "      <td>1504</td>\n",
       "      <td>2646</td>\n",
       "      <td>4150</td>\n",
       "    </tr>\n",
       "    <tr>\n",
       "      <th>429</th>\n",
       "      <td>430</td>\n",
       "      <td>2012-03-05</td>\n",
       "      <td>1</td>\n",
       "      <td>1</td>\n",
       "      <td>3</td>\n",
       "      <td>0</td>\n",
       "      <td>1</td>\n",
       "      <td>1</td>\n",
       "      <td>1</td>\n",
       "      <td>0.243333</td>\n",
       "      <td>0.241171</td>\n",
       "      <td>0.506250</td>\n",
       "      <td>0.228858</td>\n",
       "      <td>203</td>\n",
       "      <td>3130</td>\n",
       "      <td>3333</td>\n",
       "    </tr>\n",
       "    <tr>\n",
       "      <th>332</th>\n",
       "      <td>333</td>\n",
       "      <td>2011-11-29</td>\n",
       "      <td>4</td>\n",
       "      <td>0</td>\n",
       "      <td>11</td>\n",
       "      <td>0</td>\n",
       "      <td>2</td>\n",
       "      <td>1</td>\n",
       "      <td>2</td>\n",
       "      <td>0.458333</td>\n",
       "      <td>0.451375</td>\n",
       "      <td>0.830833</td>\n",
       "      <td>0.258092</td>\n",
       "      <td>96</td>\n",
       "      <td>2818</td>\n",
       "      <td>2914</td>\n",
       "    </tr>\n",
       "    <tr>\n",
       "      <th>29</th>\n",
       "      <td>30</td>\n",
       "      <td>2011-01-30</td>\n",
       "      <td>1</td>\n",
       "      <td>0</td>\n",
       "      <td>1</td>\n",
       "      <td>0</td>\n",
       "      <td>0</td>\n",
       "      <td>0</td>\n",
       "      <td>1</td>\n",
       "      <td>0.216522</td>\n",
       "      <td>0.250322</td>\n",
       "      <td>0.722174</td>\n",
       "      <td>0.073983</td>\n",
       "      <td>140</td>\n",
       "      <td>956</td>\n",
       "      <td>1096</td>\n",
       "    </tr>\n",
       "    <tr>\n",
       "      <th>559</th>\n",
       "      <td>560</td>\n",
       "      <td>2012-07-13</td>\n",
       "      <td>3</td>\n",
       "      <td>1</td>\n",
       "      <td>7</td>\n",
       "      <td>0</td>\n",
       "      <td>5</td>\n",
       "      <td>1</td>\n",
       "      <td>2</td>\n",
       "      <td>0.731667</td>\n",
       "      <td>0.667933</td>\n",
       "      <td>0.485833</td>\n",
       "      <td>0.080850</td>\n",
       "      <td>1511</td>\n",
       "      <td>5988</td>\n",
       "      <td>7499</td>\n",
       "    </tr>\n",
       "    <tr>\n",
       "      <th>598</th>\n",
       "      <td>599</td>\n",
       "      <td>2012-08-21</td>\n",
       "      <td>3</td>\n",
       "      <td>1</td>\n",
       "      <td>8</td>\n",
       "      <td>0</td>\n",
       "      <td>2</td>\n",
       "      <td>1</td>\n",
       "      <td>1</td>\n",
       "      <td>0.649167</td>\n",
       "      <td>0.601025</td>\n",
       "      <td>0.673750</td>\n",
       "      <td>0.072771</td>\n",
       "      <td>1081</td>\n",
       "      <td>5925</td>\n",
       "      <td>7006</td>\n",
       "    </tr>\n",
       "    <tr>\n",
       "      <th>323</th>\n",
       "      <td>324</td>\n",
       "      <td>2011-11-20</td>\n",
       "      <td>4</td>\n",
       "      <td>0</td>\n",
       "      <td>11</td>\n",
       "      <td>0</td>\n",
       "      <td>0</td>\n",
       "      <td>0</td>\n",
       "      <td>2</td>\n",
       "      <td>0.463333</td>\n",
       "      <td>0.457058</td>\n",
       "      <td>0.684583</td>\n",
       "      <td>0.185950</td>\n",
       "      <td>787</td>\n",
       "      <td>2733</td>\n",
       "      <td>3520</td>\n",
       "    </tr>\n",
       "    <tr>\n",
       "      <th>71</th>\n",
       "      <td>72</td>\n",
       "      <td>2011-03-13</td>\n",
       "      <td>1</td>\n",
       "      <td>0</td>\n",
       "      <td>3</td>\n",
       "      <td>0</td>\n",
       "      <td>0</td>\n",
       "      <td>0</td>\n",
       "      <td>1</td>\n",
       "      <td>0.384348</td>\n",
       "      <td>0.380091</td>\n",
       "      <td>0.527391</td>\n",
       "      <td>0.270604</td>\n",
       "      <td>982</td>\n",
       "      <td>1435</td>\n",
       "      <td>2417</td>\n",
       "    </tr>\n",
       "  </tbody>\n",
       "</table>\n",
       "</div>"
      ],
      "text/plain": [
       "     instant      dteday  season  yr  mnth  holiday  weekday  workingday  \\\n",
       "290      291  2011-10-18       4   0    10        0        2           1   \n",
       "24        25  2011-01-25       1   0     1        0        2           1   \n",
       "224      225  2011-08-13       3   0     8        0        6           0   \n",
       "429      430  2012-03-05       1   1     3        0        1           1   \n",
       "332      333  2011-11-29       4   0    11        0        2           1   \n",
       "29        30  2011-01-30       1   0     1        0        0           0   \n",
       "559      560  2012-07-13       3   1     7        0        5           1   \n",
       "598      599  2012-08-21       3   1     8        0        2           1   \n",
       "323      324  2011-11-20       4   0    11        0        0           0   \n",
       "71        72  2011-03-13       1   0     3        0        0           0   \n",
       "\n",
       "     weathersit      temp     atemp       hum  windspeed  casual  registered  \\\n",
       "290           2  0.532500  0.522721  0.701667   0.110087     637        4111   \n",
       "24            2  0.223478  0.234526  0.616957   0.129796     186        1799   \n",
       "224           2  0.685833  0.645858  0.729583   0.211454    1504        2646   \n",
       "429           1  0.243333  0.241171  0.506250   0.228858     203        3130   \n",
       "332           2  0.458333  0.451375  0.830833   0.258092      96        2818   \n",
       "29            1  0.216522  0.250322  0.722174   0.073983     140         956   \n",
       "559           2  0.731667  0.667933  0.485833   0.080850    1511        5988   \n",
       "598           1  0.649167  0.601025  0.673750   0.072771    1081        5925   \n",
       "323           2  0.463333  0.457058  0.684583   0.185950     787        2733   \n",
       "71            1  0.384348  0.380091  0.527391   0.270604     982        1435   \n",
       "\n",
       "      cnt  \n",
       "290  4748  \n",
       "24   1985  \n",
       "224  4150  \n",
       "429  3333  \n",
       "332  2914  \n",
       "29   1096  \n",
       "559  7499  \n",
       "598  7006  \n",
       "323  3520  \n",
       "71   2417  "
      ]
     },
     "execution_count": 74,
     "metadata": {},
     "output_type": "execute_result"
    }
   ],
   "source": [
    "day_df = pd.read_csv('data/day.csv')\n",
    "day_df.sample(10)"
   ]
  },
  {
   "cell_type": "markdown",
   "metadata": {},
   "source": [
    "### Assessing Data"
   ]
  },
  {
   "cell_type": "code",
   "execution_count": 75,
   "metadata": {},
   "outputs": [
    {
     "name": "stdout",
     "output_type": "stream",
     "text": [
      "<class 'pandas.core.frame.DataFrame'>\n",
      "RangeIndex: 731 entries, 0 to 730\n",
      "Data columns (total 16 columns):\n",
      " #   Column      Non-Null Count  Dtype  \n",
      "---  ------      --------------  -----  \n",
      " 0   instant     731 non-null    int64  \n",
      " 1   dteday      731 non-null    object \n",
      " 2   season      731 non-null    int64  \n",
      " 3   yr          731 non-null    int64  \n",
      " 4   mnth        731 non-null    int64  \n",
      " 5   holiday     731 non-null    int64  \n",
      " 6   weekday     731 non-null    int64  \n",
      " 7   workingday  731 non-null    int64  \n",
      " 8   weathersit  731 non-null    int64  \n",
      " 9   temp        731 non-null    float64\n",
      " 10  atemp       731 non-null    float64\n",
      " 11  hum         731 non-null    float64\n",
      " 12  windspeed   731 non-null    float64\n",
      " 13  casual      731 non-null    int64  \n",
      " 14  registered  731 non-null    int64  \n",
      " 15  cnt         731 non-null    int64  \n",
      "dtypes: float64(4), int64(11), object(1)\n",
      "memory usage: 91.5+ KB\n",
      "Jumlah duplikasi:  0\n"
     ]
    }
   ],
   "source": [
    "day_df.info()\n",
    "print(\"Jumlah duplikasi: \", day_df.duplicated().sum())"
   ]
  },
  {
   "cell_type": "markdown",
   "metadata": {},
   "source": [
    "### Cleaning Data"
   ]
  },
  {
   "cell_type": "code",
   "execution_count": 76,
   "metadata": {},
   "outputs": [
    {
     "name": "stdout",
     "output_type": "stream",
     "text": [
      "<class 'pandas.core.frame.DataFrame'>\n",
      "RangeIndex: 731 entries, 0 to 730\n",
      "Data columns (total 16 columns):\n",
      " #   Column      Non-Null Count  Dtype         \n",
      "---  ------      --------------  -----         \n",
      " 0   instant     731 non-null    int64         \n",
      " 1   dteday      731 non-null    datetime64[ns]\n",
      " 2   season      731 non-null    int64         \n",
      " 3   yr          731 non-null    int64         \n",
      " 4   mnth        731 non-null    int64         \n",
      " 5   holiday     731 non-null    int64         \n",
      " 6   weekday     731 non-null    int64         \n",
      " 7   workingday  731 non-null    int64         \n",
      " 8   weathersit  731 non-null    int64         \n",
      " 9   temp        731 non-null    float64       \n",
      " 10  atemp       731 non-null    float64       \n",
      " 11  hum         731 non-null    float64       \n",
      " 12  windspeed   731 non-null    float64       \n",
      " 13  casual      731 non-null    int64         \n",
      " 14  registered  731 non-null    int64         \n",
      " 15  cnt         731 non-null    int64         \n",
      "dtypes: datetime64[ns](1), float64(4), int64(11)\n",
      "memory usage: 91.5 KB\n"
     ]
    }
   ],
   "source": [
    "day_df['dteday'] = pd.to_datetime(day_df['dteday'])\n",
    "day_df.info()"
   ]
  },
  {
   "cell_type": "markdown",
   "metadata": {},
   "source": [
    "**Insight:**\n",
    "- Tidak ada duplicate, missing values\n",
    "- Data type masing masing kolom sudah benar kecuali dteday"
   ]
  },
  {
   "cell_type": "markdown",
   "metadata": {},
   "source": [
    "## Exploratory Data Analysis (EDA)"
   ]
  },
  {
   "cell_type": "markdown",
   "metadata": {},
   "source": [
    "### Explore `day_df`"
   ]
  },
  {
   "cell_type": "code",
   "execution_count": 77,
   "metadata": {},
   "outputs": [
    {
     "data": {
      "text/html": [
       "<div>\n",
       "<style scoped>\n",
       "    .dataframe tbody tr th:only-of-type {\n",
       "        vertical-align: middle;\n",
       "    }\n",
       "\n",
       "    .dataframe tbody tr th {\n",
       "        vertical-align: top;\n",
       "    }\n",
       "\n",
       "    .dataframe thead th {\n",
       "        text-align: right;\n",
       "    }\n",
       "</style>\n",
       "<table border=\"1\" class=\"dataframe\">\n",
       "  <thead>\n",
       "    <tr style=\"text-align: right;\">\n",
       "      <th></th>\n",
       "      <th>instant</th>\n",
       "      <th>dteday</th>\n",
       "      <th>season</th>\n",
       "      <th>yr</th>\n",
       "      <th>mnth</th>\n",
       "      <th>holiday</th>\n",
       "      <th>weekday</th>\n",
       "      <th>workingday</th>\n",
       "      <th>weathersit</th>\n",
       "      <th>temp</th>\n",
       "      <th>atemp</th>\n",
       "      <th>hum</th>\n",
       "      <th>windspeed</th>\n",
       "      <th>casual</th>\n",
       "      <th>registered</th>\n",
       "      <th>cnt</th>\n",
       "    </tr>\n",
       "  </thead>\n",
       "  <tbody>\n",
       "    <tr>\n",
       "      <th>count</th>\n",
       "      <td>731.000000</td>\n",
       "      <td>731</td>\n",
       "      <td>731.000000</td>\n",
       "      <td>731.000000</td>\n",
       "      <td>731.000000</td>\n",
       "      <td>731.000000</td>\n",
       "      <td>731.000000</td>\n",
       "      <td>731.000000</td>\n",
       "      <td>731.000000</td>\n",
       "      <td>731.000000</td>\n",
       "      <td>731.000000</td>\n",
       "      <td>731.000000</td>\n",
       "      <td>731.000000</td>\n",
       "      <td>731.000000</td>\n",
       "      <td>731.000000</td>\n",
       "      <td>731.000000</td>\n",
       "    </tr>\n",
       "    <tr>\n",
       "      <th>mean</th>\n",
       "      <td>366.000000</td>\n",
       "      <td>2012-01-01 00:00:00</td>\n",
       "      <td>2.496580</td>\n",
       "      <td>0.500684</td>\n",
       "      <td>6.519836</td>\n",
       "      <td>0.028728</td>\n",
       "      <td>2.997264</td>\n",
       "      <td>0.683995</td>\n",
       "      <td>1.395349</td>\n",
       "      <td>0.495385</td>\n",
       "      <td>0.474354</td>\n",
       "      <td>0.627894</td>\n",
       "      <td>0.190486</td>\n",
       "      <td>848.176471</td>\n",
       "      <td>3656.172367</td>\n",
       "      <td>4504.348837</td>\n",
       "    </tr>\n",
       "    <tr>\n",
       "      <th>min</th>\n",
       "      <td>1.000000</td>\n",
       "      <td>2011-01-01 00:00:00</td>\n",
       "      <td>1.000000</td>\n",
       "      <td>0.000000</td>\n",
       "      <td>1.000000</td>\n",
       "      <td>0.000000</td>\n",
       "      <td>0.000000</td>\n",
       "      <td>0.000000</td>\n",
       "      <td>1.000000</td>\n",
       "      <td>0.059130</td>\n",
       "      <td>0.079070</td>\n",
       "      <td>0.000000</td>\n",
       "      <td>0.022392</td>\n",
       "      <td>2.000000</td>\n",
       "      <td>20.000000</td>\n",
       "      <td>22.000000</td>\n",
       "    </tr>\n",
       "    <tr>\n",
       "      <th>25%</th>\n",
       "      <td>183.500000</td>\n",
       "      <td>2011-07-02 12:00:00</td>\n",
       "      <td>2.000000</td>\n",
       "      <td>0.000000</td>\n",
       "      <td>4.000000</td>\n",
       "      <td>0.000000</td>\n",
       "      <td>1.000000</td>\n",
       "      <td>0.000000</td>\n",
       "      <td>1.000000</td>\n",
       "      <td>0.337083</td>\n",
       "      <td>0.337842</td>\n",
       "      <td>0.520000</td>\n",
       "      <td>0.134950</td>\n",
       "      <td>315.500000</td>\n",
       "      <td>2497.000000</td>\n",
       "      <td>3152.000000</td>\n",
       "    </tr>\n",
       "    <tr>\n",
       "      <th>50%</th>\n",
       "      <td>366.000000</td>\n",
       "      <td>2012-01-01 00:00:00</td>\n",
       "      <td>3.000000</td>\n",
       "      <td>1.000000</td>\n",
       "      <td>7.000000</td>\n",
       "      <td>0.000000</td>\n",
       "      <td>3.000000</td>\n",
       "      <td>1.000000</td>\n",
       "      <td>1.000000</td>\n",
       "      <td>0.498333</td>\n",
       "      <td>0.486733</td>\n",
       "      <td>0.626667</td>\n",
       "      <td>0.180975</td>\n",
       "      <td>713.000000</td>\n",
       "      <td>3662.000000</td>\n",
       "      <td>4548.000000</td>\n",
       "    </tr>\n",
       "    <tr>\n",
       "      <th>75%</th>\n",
       "      <td>548.500000</td>\n",
       "      <td>2012-07-01 12:00:00</td>\n",
       "      <td>3.000000</td>\n",
       "      <td>1.000000</td>\n",
       "      <td>10.000000</td>\n",
       "      <td>0.000000</td>\n",
       "      <td>5.000000</td>\n",
       "      <td>1.000000</td>\n",
       "      <td>2.000000</td>\n",
       "      <td>0.655417</td>\n",
       "      <td>0.608602</td>\n",
       "      <td>0.730209</td>\n",
       "      <td>0.233214</td>\n",
       "      <td>1096.000000</td>\n",
       "      <td>4776.500000</td>\n",
       "      <td>5956.000000</td>\n",
       "    </tr>\n",
       "    <tr>\n",
       "      <th>max</th>\n",
       "      <td>731.000000</td>\n",
       "      <td>2012-12-31 00:00:00</td>\n",
       "      <td>4.000000</td>\n",
       "      <td>1.000000</td>\n",
       "      <td>12.000000</td>\n",
       "      <td>1.000000</td>\n",
       "      <td>6.000000</td>\n",
       "      <td>1.000000</td>\n",
       "      <td>3.000000</td>\n",
       "      <td>0.861667</td>\n",
       "      <td>0.840896</td>\n",
       "      <td>0.972500</td>\n",
       "      <td>0.507463</td>\n",
       "      <td>3410.000000</td>\n",
       "      <td>6946.000000</td>\n",
       "      <td>8714.000000</td>\n",
       "    </tr>\n",
       "    <tr>\n",
       "      <th>std</th>\n",
       "      <td>211.165812</td>\n",
       "      <td>NaN</td>\n",
       "      <td>1.110807</td>\n",
       "      <td>0.500342</td>\n",
       "      <td>3.451913</td>\n",
       "      <td>0.167155</td>\n",
       "      <td>2.004787</td>\n",
       "      <td>0.465233</td>\n",
       "      <td>0.544894</td>\n",
       "      <td>0.183051</td>\n",
       "      <td>0.162961</td>\n",
       "      <td>0.142429</td>\n",
       "      <td>0.077498</td>\n",
       "      <td>686.622488</td>\n",
       "      <td>1560.256377</td>\n",
       "      <td>1937.211452</td>\n",
       "    </tr>\n",
       "  </tbody>\n",
       "</table>\n",
       "</div>"
      ],
      "text/plain": [
       "          instant               dteday      season          yr        mnth  \\\n",
       "count  731.000000                  731  731.000000  731.000000  731.000000   \n",
       "mean   366.000000  2012-01-01 00:00:00    2.496580    0.500684    6.519836   \n",
       "min      1.000000  2011-01-01 00:00:00    1.000000    0.000000    1.000000   \n",
       "25%    183.500000  2011-07-02 12:00:00    2.000000    0.000000    4.000000   \n",
       "50%    366.000000  2012-01-01 00:00:00    3.000000    1.000000    7.000000   \n",
       "75%    548.500000  2012-07-01 12:00:00    3.000000    1.000000   10.000000   \n",
       "max    731.000000  2012-12-31 00:00:00    4.000000    1.000000   12.000000   \n",
       "std    211.165812                  NaN    1.110807    0.500342    3.451913   \n",
       "\n",
       "          holiday     weekday  workingday  weathersit        temp       atemp  \\\n",
       "count  731.000000  731.000000  731.000000  731.000000  731.000000  731.000000   \n",
       "mean     0.028728    2.997264    0.683995    1.395349    0.495385    0.474354   \n",
       "min      0.000000    0.000000    0.000000    1.000000    0.059130    0.079070   \n",
       "25%      0.000000    1.000000    0.000000    1.000000    0.337083    0.337842   \n",
       "50%      0.000000    3.000000    1.000000    1.000000    0.498333    0.486733   \n",
       "75%      0.000000    5.000000    1.000000    2.000000    0.655417    0.608602   \n",
       "max      1.000000    6.000000    1.000000    3.000000    0.861667    0.840896   \n",
       "std      0.167155    2.004787    0.465233    0.544894    0.183051    0.162961   \n",
       "\n",
       "              hum   windspeed       casual   registered          cnt  \n",
       "count  731.000000  731.000000   731.000000   731.000000   731.000000  \n",
       "mean     0.627894    0.190486   848.176471  3656.172367  4504.348837  \n",
       "min      0.000000    0.022392     2.000000    20.000000    22.000000  \n",
       "25%      0.520000    0.134950   315.500000  2497.000000  3152.000000  \n",
       "50%      0.626667    0.180975   713.000000  3662.000000  4548.000000  \n",
       "75%      0.730209    0.233214  1096.000000  4776.500000  5956.000000  \n",
       "max      0.972500    0.507463  3410.000000  6946.000000  8714.000000  \n",
       "std      0.142429    0.077498   686.622488  1560.256377  1937.211452  "
      ]
     },
     "execution_count": 77,
     "metadata": {},
     "output_type": "execute_result"
    }
   ],
   "source": [
    "day_df.describe(include='all')"
   ]
  },
  {
   "cell_type": "code",
   "execution_count": 78,
   "metadata": {},
   "outputs": [
    {
     "name": "stdout",
     "output_type": "stream",
     "text": [
      "  weathersit      temp     atemp       hum  windspeed\n",
      "0      Clear  0.511541  0.488596  0.565594   0.190253\n",
      "1       Mist  0.470366  0.452868  0.725887   0.186431\n",
      "2  Snow/Rain  0.433440  0.413064  0.848872   0.243336\n"
     ]
    }
   ],
   "source": [
    "day_by_weathersit = day_df.groupby(['weathersit']).agg({\n",
    "    'temp': 'mean',\n",
    "    'atemp': 'mean',\n",
    "    'hum': 'mean',\n",
    "    'windspeed': 'mean'\n",
    "}).reset_index()\n",
    "day_by_weathersit['weathersit'] = day_by_weathersit['weathersit'].map({\n",
    "    1: \"Clear\",\n",
    "    2: \"Mist\",\n",
    "    3: \"Snow/Rain\",\n",
    "    4: \"Storm\"\n",
    "})\n",
    "print(day_by_weathersit)"
   ]
  },
  {
   "cell_type": "code",
   "execution_count": 86,
   "metadata": {},
   "outputs": [
    {
     "name": "stdout",
     "output_type": "stream",
     "text": [
      "   yr    season  casual  registered     cnt\n",
      "0   1  springer   21425      128575  150000\n",
      "1   1    summer   77564      269752  347316\n",
      "2   1      fall   95450      324200  419650\n",
      "3   1    winter   52813      273324  326137\n",
      "4   2  springer   39197      282151  321348\n",
      "5   2    summer  125958      445315  571273\n",
      "6   2      fall  130641      510838  641479\n",
      "7   2    winter   76969      438507  515476\n"
     ]
    }
   ],
   "source": [
    "day_by_year = day_df.groupby(['yr', 'season']).agg({\n",
    "    'casual': 'sum',\n",
    "    'registered': 'sum',\n",
    "    'cnt': 'sum',\n",
    "}).reset_index()\n",
    "day_by_year['yr'] += 1\n",
    "day_by_year['season'] = day_by_year['season'].map({\n",
    "    1: 'springer', \n",
    "    2: 'summer',\n",
    "    3: 'fall',\n",
    "    4: 'winter'\n",
    "})\n",
    "print(day_by_year)"
   ]
  },
  {
   "cell_type": "markdown",
   "metadata": {},
   "source": [
    "**Insight:**\n",
    "- Temperatur tinggi pada cuaca yang cerah\n",
    "- Humidity dan kecepatan angin cenderung tinggi pada situasi hujan atau bersalju\n",
    "- Terjadi peningkatan user pada tahun berikutnya baik yang casual dan registered\n",
    "- Season 3 yaitu fall selalu populer oleh user dalam kedua tahunnya"
   ]
  },
  {
   "cell_type": "markdown",
   "metadata": {},
   "source": [
    "## Visualization"
   ]
  },
  {
   "cell_type": "markdown",
   "metadata": {},
   "source": [
    "### Pertanyaan 1: Bagaimana keadaan lingkungan terhadap situasi weather?"
   ]
  },
  {
   "cell_type": "code",
   "execution_count": 80,
   "metadata": {},
   "outputs": [
    {
     "data": {
      "text/plain": [
       "<Axes: xlabel='weathersit'>"
      ]
     },
     "execution_count": 80,
     "metadata": {},
     "output_type": "execute_result"
    },
    {
     "data": {
      "image/png": "[encoded data removed]",
      "text/plain": [
       "<Figure size 640x480 with 1 Axes>"
      ]
     },
     "metadata": {},
     "output_type": "display_data"
    }
   ],
   "source": [
    "day_by_weathersit.plot(kind='bar', x='weathersit', y=['temp', 'atemp', 'hum', 'windspeed'])"
   ]
  },
  {
   "cell_type": "markdown",
   "metadata": {},
   "source": [
    "### Pertanyaan 2: Bagaimana performa user setiap tahunnya?"
   ]
  },
  {
   "cell_type": "code",
   "execution_count": 87,
   "metadata": {},
   "outputs": [
    {
     "data": {
      "text/plain": [
       "<Axes: xlabel='season'>"
      ]
     },
     "execution_count": 87,
     "metadata": {},
     "output_type": "execute_result"
    },
    {
     "data": {
      "image/png": "[encoded data removed]",
      "text/plain": [
       "<Figure size 640x480 with 1 Axes>"
      ]
     },
     "metadata": {},
     "output_type": "display_data"
    }
   ],
   "source": [
    "day_by_year.plot(kind='bar', x='season', y=['casual', 'registered', 'cnt'], stacked=True)"
   ]
  },
  {
   "cell_type": "markdown",
   "metadata": {},
   "source": [
    "**Insight:**\n",
    "- Lebih banyak user yang bertipe registered\n",
    "- Humidity berbeda jauh pada setiap kondisi weather\n",
    "- Omset penjulan melonjak pada season 3 dan terus naik setiap tahunnya"
   ]
  },
  {
   "cell_type": "markdown",
   "metadata": {},
   "source": [
    "## Conclusion\n",
    "- Humidity sangat mempengaruhi situasi weather\n",
    "- Di tahun berikutnya, performa user meningkat pesat\n",
    "- Fokus dan bersiap pada season 3 yaitu fall pada setiap tahunnya karna penjualan meningkat pesat\n",
    "- Springer adalah season terendah performanya pada setiap tahun"
   ]
  }
 ],
 "metadata": {
  "kernelspec": {
   "display_name": "myenv",
   "language": "python",
   "name": "python3"
  },
  "language_info": {
   "codemirror_mode": {
    "name": "ipython",
    "version": 3
   },
   "file_extension": ".py",
   "mimetype": "text/x-python",
   "name": "python",
   "nbconvert_exporter": "python",
   "pygments_lexer": "ipython3",
   "version": "3.13.0"
  }
 },
 "nbformat": 4,
 "nbformat_minor": 2
}
